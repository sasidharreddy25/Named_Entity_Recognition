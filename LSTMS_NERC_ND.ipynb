{
  "nbformat": 4,
  "nbformat_minor": 0,
  "metadata": {
    "colab": {
      "name": "LSTMS_NERC_ND.ipynb",
      "provenance": [],
      "collapsed_sections": []
    },
    "kernelspec": {
      "name": "python3",
      "display_name": "Python 3"
    },
    "language_info": {
      "name": "python"
    },
    "accelerator": "GPU"
  },
  "cells": [
    {
      "cell_type": "code",
      "metadata": {
        "id": "KL5uJH1l9IFc"
      },
      "source": [
        "import pandas as pd\n",
        "import numpy as np"
      ],
      "execution_count": null,
      "outputs": []
    },
    {
      "cell_type": "code",
      "metadata": {
        "colab": {
          "base_uri": "https://localhost:8080/"
        },
        "id": "XPGxqSmi9Wje",
        "outputId": "8707d02b-16e2-4d73-ac3d-10e1275df5a2"
      },
      "source": [
        "with open('/content/drive/MyDrive/sentences.txt') as f:\n",
        "  t=f.readlines()\n",
        "f.close()\n",
        "t=np.array(t,dtype='object')\n",
        "t"
      ],
      "execution_count": null,
      "outputs": [
        {
          "output_type": "execute_result",
          "data": {
            "text/plain": [
              "array(['Thousands of demonstrators have marched through London to protest the war in Iraq and demand the withdrawal of British troops from that country .\\n',\n",
              "       'Families of soldiers killed in the conflict joined the protesters who carried banners with such slogans as \" Bush Number One Terrorist \" and \" Stop the Bombings . \"\\n',\n",
              "       'They marched from the Houses of Parliament to a rally in Hyde Park .\\n',\n",
              "       ...,\n",
              "       'Ilya Kovalchuk scored four goals Sunday with two in each of the first two periods .\\n',\n",
              "       'Russian goaltender Evgeni Nabokov posted consecutive shutout victories over Sweden and Kazakhstan with 48 saves .\\n',\n",
              "       'Although he allowed one goal by Latvia , he faced only seven shots in two periods before being replaced by his back-up .\\n'],\n",
              "      dtype=object)"
            ]
          },
          "metadata": {
            "tags": []
          },
          "execution_count": 11
        }
      ]
    },
    {
      "cell_type": "code",
      "metadata": {
        "colab": {
          "base_uri": "https://localhost:8080/"
        },
        "id": "bgUJZAd3T-No",
        "outputId": "6d0b6be6-a18b-4cce-bba1-6e817f831035"
      },
      "source": [
        "from google.colab import drive\n",
        "drive.mount('/content/drive')"
      ],
      "execution_count": null,
      "outputs": [
        {
          "output_type": "stream",
          "text": [
            "Drive already mounted at /content/drive; to attempt to forcibly remount, call drive.mount(\"/content/drive\", force_remount=True).\n"
          ],
          "name": "stdout"
        }
      ]
    },
    {
      "cell_type": "code",
      "metadata": {
        "id": "mnELTcLpUBlP"
      },
      "source": [
        "from keras.preprocessing.text import Tokenizer"
      ],
      "execution_count": null,
      "outputs": []
    },
    {
      "cell_type": "code",
      "metadata": {
        "id": "x-b2KadpXzUl"
      },
      "source": [
        "tokenizer=Tokenizer(oov_token='<oov>')\n",
        "tokenizer.fit_on_texts(t)\n",
        "vocabsize=len(tokenizer.word_index)+1\n",
        "encoded_df=tokenizer.texts_to_sequences(t)"
      ],
      "execution_count": null,
      "outputs": []
    },
    {
      "cell_type": "code",
      "metadata": {
        "id": "JS5EZp8HnjwR"
      },
      "source": [
        "from keras.preprocessing.sequence import pad_sequences"
      ],
      "execution_count": null,
      "outputs": []
    },
    {
      "cell_type": "code",
      "metadata": {
        "colab": {
          "base_uri": "https://localhost:8080/"
        },
        "id": "oZY47hnHn9oQ",
        "outputId": "23e2af77-25a9-4ae7-8d33-9e5fba14727c"
      },
      "source": [
        "max_len=50\n",
        "padded_df=pad_sequences(encoded_df,maxlen=max_len,padding='post')\n",
        "padded_df"
      ],
      "execution_count": null,
      "outputs": [
        {
          "output_type": "execute_result",
          "data": {
            "text/plain": [
              "array([[  265,     4,   958, ...,     0,     0,     0],\n",
              "       [ 1180,     4,   163, ...,     0,     0,     0],\n",
              "       [   46,  1808,    21, ...,     0,     0,     0],\n",
              "       ...,\n",
              "       [24095, 24096,  2051, ...,     0,     0,     0],\n",
              "       [  197, 24097, 24098, ...,     0,     0,     0],\n",
              "       [  892,    24,   980, ...,     0,     0,     0]], dtype=int32)"
            ]
          },
          "metadata": {
            "tags": []
          },
          "execution_count": 16
        }
      ]
    },
    {
      "cell_type": "code",
      "metadata": {
        "colab": {
          "base_uri": "https://localhost:8080/"
        },
        "id": "Jy788xPZSGiV",
        "outputId": "0ef2a59b-3c14-491a-b16a-ce1c957eb8eb"
      },
      "source": [
        "padded_df.shape"
      ],
      "execution_count": null,
      "outputs": [
        {
          "output_type": "execute_result",
          "data": {
            "text/plain": [
              "(33570, 50)"
            ]
          },
          "metadata": {
            "tags": []
          },
          "execution_count": 17
        }
      ]
    },
    {
      "cell_type": "code",
      "metadata": {
        "id": "3mHi83T5ocGj"
      },
      "source": [
        "with open('/content/drive/MyDrive/labels.txt') as f:\n",
        "  t1=f.readlines()\n",
        "f.close()"
      ],
      "execution_count": null,
      "outputs": []
    },
    {
      "cell_type": "code",
      "metadata": {
        "id": "fN7a2QWHH_ex"
      },
      "source": [
        "d={}\n",
        "c=1\n",
        "for i in t1:\n",
        "  for j in i.split():\n",
        "    if (j in d):\n",
        "      pass\n",
        "    else:\n",
        "      d[j]=c\n",
        "      c+=1"
      ],
      "execution_count": null,
      "outputs": []
    },
    {
      "cell_type": "code",
      "metadata": {
        "colab": {
          "base_uri": "https://localhost:8080/"
        },
        "id": "kKGi170ZIqZ5",
        "outputId": "af02b7de-6e45-4fc7-bc6b-73997de0f565"
      },
      "source": [
        "d"
      ],
      "execution_count": null,
      "outputs": [
        {
          "output_type": "execute_result",
          "data": {
            "text/plain": [
              "{'B-art': 9,\n",
              " 'B-eve': 15,\n",
              " 'B-geo': 2,\n",
              " 'B-gpe': 3,\n",
              " 'B-nat': 14,\n",
              " 'B-org': 6,\n",
              " 'B-per': 4,\n",
              " 'B-tim': 8,\n",
              " 'I-art': 10,\n",
              " 'I-eve': 16,\n",
              " 'I-geo': 5,\n",
              " 'I-gpe': 12,\n",
              " 'I-nat': 17,\n",
              " 'I-org': 7,\n",
              " 'I-per': 11,\n",
              " 'I-tim': 13,\n",
              " 'O': 1}"
            ]
          },
          "metadata": {
            "tags": []
          },
          "execution_count": 20
        }
      ]
    },
    {
      "cell_type": "code",
      "metadata": {
        "colab": {
          "base_uri": "https://localhost:8080/"
        },
        "id": "D7M__7E1HpbX",
        "outputId": "f2bf32d8-7b09-44ae-98e4-2b9251939c1b"
      },
      "source": [
        "d['I-org']"
      ],
      "execution_count": null,
      "outputs": [
        {
          "output_type": "execute_result",
          "data": {
            "text/plain": [
              "7"
            ]
          },
          "metadata": {
            "tags": []
          },
          "execution_count": 21
        }
      ]
    },
    {
      "cell_type": "code",
      "metadata": {
        "id": "NmXXMhjlsZzl"
      },
      "source": [
        "t2=[[d[i]for i in s.split()]for s in t1]"
      ],
      "execution_count": null,
      "outputs": []
    },
    {
      "cell_type": "code",
      "metadata": {
        "colab": {
          "base_uri": "https://localhost:8080/"
        },
        "id": "vi90T8r7KpZH",
        "outputId": "8dba9296-770f-4984-e842-0a5943344279"
      },
      "source": [
        "max_len=50\n",
        "t3=pad_sequences(t2,maxlen=max_len,padding='post')\n",
        "t3"
      ],
      "execution_count": null,
      "outputs": [
        {
          "output_type": "execute_result",
          "data": {
            "text/plain": [
              "array([[ 1,  1,  1, ...,  0,  0,  0],\n",
              "       [ 1,  1,  1, ...,  0,  0,  0],\n",
              "       [ 1,  1,  1, ...,  0,  0,  0],\n",
              "       ...,\n",
              "       [ 4, 11,  1, ...,  0,  0,  0],\n",
              "       [ 3,  1,  4, ...,  0,  0,  0],\n",
              "       [ 1,  1,  1, ...,  0,  0,  0]], dtype=int32)"
            ]
          },
          "metadata": {
            "tags": []
          },
          "execution_count": 23
        }
      ]
    },
    {
      "cell_type": "code",
      "metadata": {
        "colab": {
          "base_uri": "https://localhost:8080/"
        },
        "id": "V6X8uv_eQTqT",
        "outputId": "416d4ccb-29bf-4e1f-e358-aff9f9f94228"
      },
      "source": [
        "t3.shape"
      ],
      "execution_count": null,
      "outputs": [
        {
          "output_type": "execute_result",
          "data": {
            "text/plain": [
              "(33570, 50)"
            ]
          },
          "metadata": {
            "tags": []
          },
          "execution_count": 24
        }
      ]
    },
    {
      "cell_type": "code",
      "metadata": {
        "id": "UYzFQvgFs5sv"
      },
      "source": [
        "from keras import Model,Input\n",
        "from keras.layers import Dense,Dropout,Bidirectional,LSTM,Embedding"
      ],
      "execution_count": null,
      "outputs": []
    },
    {
      "cell_type": "code",
      "metadata": {
        "id": "YX62-hwUulKy"
      },
      "source": [
        "input=Input(shape=(max_len))\n",
        "model=Embedding(vocabsize,output_dim=200,input_length=max_len)(input)\n",
        "model=Bidirectional(LSTM(128,return_sequences=True))(model)\n",
        "model=Bidirectional(LSTM(80,return_sequences=True))(model)\n",
        "model=Bidirectional(LSTM(64,return_sequences=True))(model)\n",
        "model=Dropout(0.4)(model)\n",
        "ou=Dense(18,activation='softmax')(model)\n",
        "model=Model(input,ou)"
      ],
      "execution_count": null,
      "outputs": []
    },
    {
      "cell_type": "code",
      "metadata": {
        "colab": {
          "base_uri": "https://localhost:8080/"
        },
        "id": "dgF8xj5sv2jh",
        "outputId": "f748cafe-6a86-43a3-be57-1d5523aec6f4"
      },
      "source": [
        "model.summary()"
      ],
      "execution_count": null,
      "outputs": [
        {
          "output_type": "stream",
          "text": [
            "Model: \"model\"\n",
            "_________________________________________________________________\n",
            "Layer (type)                 Output Shape              Param #   \n",
            "=================================================================\n",
            "input_1 (InputLayer)         [(None, 50)]              0         \n",
            "_________________________________________________________________\n",
            "embedding (Embedding)        (None, 50, 200)           4820200   \n",
            "_________________________________________________________________\n",
            "bidirectional (Bidirectional (None, 50, 256)           336896    \n",
            "_________________________________________________________________\n",
            "bidirectional_1 (Bidirection (None, 50, 160)           215680    \n",
            "_________________________________________________________________\n",
            "bidirectional_2 (Bidirection (None, 50, 128)           115200    \n",
            "_________________________________________________________________\n",
            "dropout (Dropout)            (None, 50, 128)           0         \n",
            "_________________________________________________________________\n",
            "dense (Dense)                (None, 50, 18)            2322      \n",
            "=================================================================\n",
            "Total params: 5,490,298\n",
            "Trainable params: 5,490,298\n",
            "Non-trainable params: 0\n",
            "_________________________________________________________________\n"
          ],
          "name": "stdout"
        }
      ]
    },
    {
      "cell_type": "code",
      "metadata": {
        "id": "dwKAFHkDwLAE"
      },
      "source": [
        "model.compile(optimizer='adam',loss='sparse_categorical_crossentropy',metrics=['accuracy'])"
      ],
      "execution_count": null,
      "outputs": []
    },
    {
      "cell_type": "code",
      "metadata": {
        "id": "sDhVLU-pw9Qd"
      },
      "source": [
        "model.fit(padded_df,t3,epochs=5,batch_size=124)"
      ],
      "execution_count": null,
      "outputs": []
    },
    {
      "cell_type": "code",
      "metadata": {
        "id": "7bf6PPtN1AX1"
      },
      "source": [
        "s=[\"raj kumar are working in google \"]"
      ],
      "execution_count": null,
      "outputs": []
    },
    {
      "cell_type": "code",
      "metadata": {
        "id": "caexEyvDD3i3"
      },
      "source": [
        "s1=tokenizer.texts_to_sequences(s)"
      ],
      "execution_count": null,
      "outputs": []
    },
    {
      "cell_type": "code",
      "metadata": {
        "id": "UtMO7hO4SlAV"
      },
      "source": [
        "s1=pad_sequences(s1,maxlen=max_len,padding='post')"
      ],
      "execution_count": null,
      "outputs": []
    },
    {
      "cell_type": "code",
      "metadata": {
        "id": "_LAzTYcFHWNR"
      },
      "source": [
        "predict=model.predict(s1)"
      ],
      "execution_count": null,
      "outputs": []
    },
    {
      "cell_type": "code",
      "metadata": {
        "id": "A79Q-m3VS37O"
      },
      "source": [
        "s2=np.argmax(predict[0],axis=1)"
      ],
      "execution_count": null,
      "outputs": []
    },
    {
      "cell_type": "code",
      "metadata": {
        "colab": {
          "base_uri": "https://localhost:8080/"
        },
        "id": "ytC-p2x3eOdc",
        "outputId": "7a92e7f5-8e8f-42ad-926f-ac1270aeb2a5"
      },
      "source": [
        "for i,j in enumerate(s[0].split()):\n",
        "  print(j,rev_d[s2[i]])"
      ],
      "execution_count": null,
      "outputs": [
        {
          "output_type": "stream",
          "text": [
            "raj B-per\n",
            "kumar I-per\n",
            "are O\n",
            "working O\n",
            "in O\n",
            "google B-geo\n"
          ],
          "name": "stdout"
        }
      ]
    },
    {
      "cell_type": "code",
      "metadata": {
        "colab": {
          "base_uri": "https://localhost:8080/"
        },
        "id": "0KgrfnkufF45",
        "outputId": "22777de8-0311-467e-bc10-2792b3afdead"
      },
      "source": [
        "d"
      ],
      "execution_count": null,
      "outputs": [
        {
          "output_type": "execute_result",
          "data": {
            "text/plain": [
              "{'B-art': 9,\n",
              " 'B-eve': 15,\n",
              " 'B-geo': 2,\n",
              " 'B-gpe': 3,\n",
              " 'B-nat': 14,\n",
              " 'B-org': 6,\n",
              " 'B-per': 4,\n",
              " 'B-tim': 8,\n",
              " 'I-art': 10,\n",
              " 'I-eve': 16,\n",
              " 'I-geo': 5,\n",
              " 'I-gpe': 12,\n",
              " 'I-nat': 17,\n",
              " 'I-org': 7,\n",
              " 'I-per': 11,\n",
              " 'I-tim': 13,\n",
              " 'O': 1}"
            ]
          },
          "metadata": {
            "tags": []
          },
          "execution_count": 93
        }
      ]
    },
    {
      "cell_type": "code",
      "metadata": {
        "id": "s2aJ52ehfamO"
      },
      "source": [
        "rev_d={i:j for j,i in d.items()}"
      ],
      "execution_count": null,
      "outputs": []
    },
    {
      "cell_type": "code",
      "metadata": {
        "id": "IG96bvppO1JT"
      },
      "source": [
        ""
      ],
      "execution_count": null,
      "outputs": []
    },
    {
      "cell_type": "code",
      "source": [
        ""
      ],
      "metadata": {
        "id": "OFkPSdgRik5b"
      },
      "execution_count": null,
      "outputs": []
    },
    {
      "cell_type": "code",
      "source": [
        ""
      ],
      "metadata": {
        "id": "76H3Nq-Zikz_"
      },
      "execution_count": null,
      "outputs": []
    },
    {
      "cell_type": "code",
      "source": [
        ""
      ],
      "metadata": {
        "id": "fdmg8m5nikwU"
      },
      "execution_count": null,
      "outputs": []
    },
    {
      "cell_type": "code",
      "source": [
        ""
      ],
      "metadata": {
        "id": "cWmgysQyiksy"
      },
      "execution_count": null,
      "outputs": []
    }
  ]
}